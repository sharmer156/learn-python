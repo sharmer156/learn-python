{
 "cells": [
  {
   "cell_type": "code",
   "execution_count": 3,
   "metadata": {},
   "outputs": [
    {
     "data": {
      "text/plain": [
       "'Variables\\n\\n@see: https://docs.python.org/3/tutorial/introduction.html\\n@see: https://www.w3schools.com/python/python_variables.asp\\n@see: https://www.learnpython.org/en/Variables_and_Types\\n\\nPython is completely object oriented, and not \"statically typed\".\\nYou do not need to declare variables before using them, or declare\\ntheir type. Every variable in Python is an object.\\n\\nUnlike other programming languages, Python has no command for\\ndeclaring a variable. A variable is created the moment you first assign\\na value to it.\\n\\nA variable can have a short name (like x and y) or a more descriptive name\\n(age, carname, total_volume).\\n\\nRules for Python variables:\\n- A variable name must start with a letter or the underscore character.\\n- A variable name cannot start with a number.\\n- A variable name can only contain alpha-numeric characters and underscores (A-z, 0-9, and _ ).\\n- Variable names are case-sensitive (age, Age and AGE are three different variables).\\n'"
      ]
     },
     "execution_count": 3,
     "metadata": {},
     "output_type": "execute_result"
    }
   ],
   "source": [
    "\"\"\"Variables\n",
    "\n",
    "@see: https://docs.python.org/3/tutorial/introduction.html\n",
    "@see: https://www.w3schools.com/python/python_variables.asp\n",
    "@see: https://www.learnpython.org/en/Variables_and_Types\n",
    "\n",
    "Python is completely object oriented, and not \"statically typed\".\n",
    "You do not need to declare variables before using them, or declare\n",
    "their type. Every variable in Python is an object.\n",
    "\n",
    "Unlike other programming languages, Python has no command for\n",
    "declaring a variable. A variable is created the moment you first assign\n",
    "a value to it.\n",
    "\n",
    "A variable can have a short name (like x and y) or a more descriptive name\n",
    "(age, carname, total_volume).\n",
    "\n",
    "Rules for Python variables:\n",
    "- A variable name must start with a letter or the underscore character.\n",
    "- A variable name cannot start with a number.\n",
    "- A variable name can only contain alpha-numeric characters and underscores (A-z, 0-9, and _ ).\n",
    "- Variable names are case-sensitive (age, Age and AGE are three different variables).\n",
    "”“”变量\n",
    "@see:https://docs.python.org/3/tutorial/introduction.html\n",
    "@see:https://www.w3schools.com/python/python_variables.asp\n",
    "@see:https://www.learnpython.org/en/Variables_and_Types\n",
    "Python是完全面向对象的，而不是“静态类型”。\n",
    "在使用变量或声明变量之前，不需要声明它们\n",
    "他们的类型。Python中的每个变量都是一个对象。\n",
    "与其他编程语言不同，Python没有命令\n",
    "声明一个变量。变量是在您第一次分配时创建的\n",
    "一个值。\n",
    "变量可以有一个简短的名称(如x和y)或一个更具描述性的名称\n",
    "(年龄、carname total_volume)。\n",
    "Python变量规则:\n",
    "变量名必须以字母或下划线开头。\n",
    "变量名不能以数字开头。\n",
    "变量名只能包含字母数字字符和下划线(A-z、0-9和_)。\n",
    "-变量名是区分大小写的(年龄、年龄和年龄是三个不同的变量)。\n",
    "\n",
    "\"\"\""
   ]
  },
  {
   "cell_type": "code",
   "execution_count": 1,
   "metadata": {},
   "outputs": [],
   "source": [
    "def test_variables():\n",
    "    \"\"\"Test variables\"\"\"\n",
    "\n",
    "    integer_variable = 5\n",
    "    string_variable = 'John'\n",
    "\n",
    "    assert integer_variable == 5\n",
    "    assert string_variable == 'John'\n",
    "\n",
    "    variable_with_changed_type = 4  # x is of type int\n",
    "    variable_with_changed_type = 'Sally'  # x is now of type str\n",
    "    x = 4\n",
    "    x = 'Sally' \n",
    "\n",
    "    assert variable_with_changed_type == 'Sally'\n"
   ]
  },
  {
   "cell_type": "code",
   "execution_count": 56,
   "metadata": {},
   "outputs": [
    {
     "name": "stdout",
     "output_type": "stream",
     "text": [
      "None\n",
      "\n"
     ]
    }
   ],
   "source": [
    "from test_variables import *\n",
    "# just test\n",
    "print(test_variables())\n",
    "print()\n",
    "# print(variable_with_changed_type)\n",
    "\n",
    "#print(string_variable) #name 'string_variable' is not defined\n",
    "#print(integer_variable) #name 'integer_variable' is not defined\n",
    "#print( variable_with_changed_type )"
   ]
  }
 ],
 "metadata": {
  "kernelspec": {
   "display_name": "Python 3",
   "language": "python",
   "name": "python3"
  },
  "language_info": {
   "codemirror_mode": {
    "name": "ipython",
    "version": 3
   },
   "file_extension": ".py",
   "mimetype": "text/x-python",
   "name": "python",
   "nbconvert_exporter": "python",
   "pygments_lexer": "ipython3",
   "version": "3.6.6"
  },
  "toc": {
   "base_numbering": 1,
   "nav_menu": {},
   "number_sections": true,
   "sideBar": true,
   "skip_h1_title": false,
   "title_cell": "Table of Contents",
   "title_sidebar": "Contents",
   "toc_cell": false,
   "toc_position": {},
   "toc_section_display": true,
   "toc_window_display": false
  }
 },
 "nbformat": 4,
 "nbformat_minor": 2
}
