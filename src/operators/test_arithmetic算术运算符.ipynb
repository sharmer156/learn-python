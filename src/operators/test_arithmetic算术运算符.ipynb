{
 "cells": [
  {
   "cell_type": "code",
   "execution_count": 14,
   "metadata": {},
   "outputs": [
    {
     "data": {
      "text/plain": [
       "'Arithmetic operators\\n\\n@see: https://www.w3schools.com/python/python_operators.asp\\n\\nArithmetic operators are used with numeric values to perform common mathematical operations\\n'"
      ]
     },
     "execution_count": 14,
     "metadata": {},
     "output_type": "execute_result"
    }
   ],
   "source": [
    "\"\"\"Arithmetic operators\n",
    "\n",
    "@see: https://www.w3schools.com/python/python_operators.asp\n",
    "\n",
    "Arithmetic operators are used with numeric values to perform common mathematical operations\n",
    "\"\"\""
   ]
  },
  {
   "cell_type": "code",
   "execution_count": 15,
   "metadata": {},
   "outputs": [],
   "source": [
    "def test_arithmetic_operators():\n",
    "    \"\"\"Arithmetic operators\"\"\"\n",
    "\n",
    "    # Addition.\n",
    "    assert 5 + 3 == 8\n",
    "\n",
    "    # Subtraction.\n",
    "    assert 5 - 3 == 2\n",
    "\n",
    "    # Multiplication.\n",
    "    assert 5 * 3 == 15\n",
    "    assert isinstance(5 * 3, int)\n",
    "\n",
    "    # Division.\n",
    "    # Result of division is float number.\n",
    "    assert 5 / 3 == 1.6666666666666667\n",
    "    assert 8 / 4 == 2\n",
    "    assert isinstance(5 / 3, float)\n",
    "    assert isinstance(8 / 4, float)\n",
    "\n",
    "    # Modulus.\n",
    "    assert 5 % 3 == 2\n",
    "\n",
    "    # Exponentiation.\n",
    "    assert 5 ** 3 == 125\n",
    "    assert 2 ** 3 == 8\n",
    "    assert 2 ** 4 == 16\n",
    "    assert 2 ** 5 == 32\n",
    "    assert isinstance(5 ** 3, int)\n",
    "\n",
    "    # Floor division.\n",
    "    assert 5 // 3 == 1\n",
    "    assert 6 // 3 == 2\n",
    "    assert 7 // 3 == 2\n",
    "    assert 9 // 3 == 3\n",
    "\n",
    "\"\"\"\n",
    "assert isinstance(5 // 3, float #or int) #unexpected EOF while parsing\n",
    "\n",
    "\"\"\"\n",
    "assert isinstance(5 // 3, int)"
   ]
  },
  {
   "cell_type": "code",
   "execution_count": 10,
   "metadata": {},
   "outputs": [
    {
     "name": "stdout",
     "output_type": "stream",
     "text": [
      "None\n",
      "True\n"
     ]
    }
   ],
   "source": [
    "print(test_arithmetic_operators())\n",
    "print(isinstance(5 // 3, int))"
   ]
  }
 ],
 "metadata": {
  "kernelspec": {
   "display_name": "Python 3",
   "language": "python",
   "name": "python3"
  },
  "language_info": {
   "codemirror_mode": {
    "name": "ipython",
    "version": 3
   },
   "file_extension": ".py",
   "mimetype": "text/x-python",
   "name": "python",
   "nbconvert_exporter": "python",
   "pygments_lexer": "ipython3",
   "version": "3.6.6"
  },
  "toc": {
   "base_numbering": 1,
   "nav_menu": {},
   "number_sections": true,
   "sideBar": true,
   "skip_h1_title": false,
   "title_cell": "Table of Contents",
   "title_sidebar": "Contents",
   "toc_cell": false,
   "toc_position": {},
   "toc_section_display": true,
   "toc_window_display": false
  }
 },
 "nbformat": 4,
 "nbformat_minor": 2
}
